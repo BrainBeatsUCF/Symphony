{
 "cells": [
  {
   "cell_type": "code",
   "execution_count": 1,
   "metadata": {},
   "outputs": [],
   "source": [
    "import music21 as m21\n",
    "import os\n",
    "import json\n",
    "from pathlib import Path"
   ]
  },
  {
   "cell_type": "code",
   "execution_count": 2,
   "metadata": {},
   "outputs": [],
   "source": [
    "song = m21.converter.parse(\"./data/1300_pm.mid\")"
   ]
  },
  {
   "cell_type": "code",
   "execution_count": 3,
   "metadata": {},
   "outputs": [
    {
     "name": "stdout",
     "output_type": "stream",
     "text": [
      "970\n"
     ]
    }
   ],
   "source": [
    "print(len(song.flat.notesAndRests))"
   ]
  },
  {
   "cell_type": "code",
   "execution_count": 8,
   "metadata": {},
   "outputs": [
    {
     "data": {
      "text/plain": [
       "False"
      ]
     },
     "execution_count": 8,
     "metadata": {},
     "output_type": "execute_result"
    }
   ],
   "source": [
    "def monophonic(stream):\n",
    "    try:\n",
    "        length = len(m21.instrument.partitionByInstrument(stream).parts)\n",
    "    except:\n",
    "        length = 0\n",
    "    return length == 1\n",
    "\n",
    "monophonic(song)"
   ]
  },
  {
   "cell_type": "code",
   "execution_count": null,
   "metadata": {},
   "outputs": [],
   "source": [
    "chordify_song = song.chordify()"
   ]
  },
  {
   "cell_type": "code",
   "execution_count": null,
   "metadata": {},
   "outputs": [],
   "source": [
    "print(len(chordify_song.flat.notesAndRests))"
   ]
  },
  {
   "cell_type": "code",
   "execution_count": null,
   "metadata": {},
   "outputs": [],
   "source": [
    "   def transpose_song(song):\n",
    "        \"\"\"\n",
    "        Transposes song to a specified major/minor key.\n",
    "        If the song is in a major scale it is transposed to the specified key, vice versa\n",
    "\n",
    "        Defaults are in place in case the programmer forgets them\n",
    "\n",
    "        :param song (m21 stream): The song to transpose\n",
    "        :param major_key (str): The musical major key you want to transpose to\n",
    "        :param minor_key (str): The musical minor key you want to transpose to\n",
    "        :return transposed_song (m21 stream):\n",
    "        \"\"\"\n",
    "        print(\"Transposing song....\")\n",
    "        # get key from the song\n",
    "        parts = song.getElementsByClass(m21.stream.Part)\n",
    "        measures_part0 = parts[0].getElementsByClass(m21.stream.Measure)\n",
    "        key = song.analyze(\"key\")\n",
    "\n",
    "        # get interval for transposition. E.g., Bmaj -> Cmaj\n",
    "        if key.mode == \"major\":\n",
    "            interval = m21.interval.Interval(key.tonic, m21.pitch.Pitch(\"C\"))\n",
    "        elif key.mode == \"minor\":\n",
    "            interval = m21.interval.Interval(key.tonic, m21.pitch.Pitch(\"A\"))\n",
    "\n",
    "        # transpose song by calculated interval\n",
    "        tranposed_song = song.transpose(interval)\n",
    "        return tranposed_song"
   ]
  },
  {
   "cell_type": "code",
   "execution_count": null,
   "metadata": {},
   "outputs": [],
   "source": [
    "transposed_song = transpose_song(song)"
   ]
  },
  {
   "cell_type": "code",
   "execution_count": null,
   "metadata": {},
   "outputs": [],
   "source": [
    "print(len(transposed_song.flat.notesAndRests))"
   ]
  },
  {
   "cell_type": "code",
   "execution_count": null,
   "metadata": {},
   "outputs": [],
   "source": [
    "def has_acceptable_durations(song) -> bool:\n",
    "        \"\"\"\n",
    "        Boolean routine that returns True if piece has all acceptable duration, False otherwise.\n",
    "\n",
    "        :param song (m21 stream):\n",
    "        :return (bool):\n",
    "        \"\"\"\n",
    "        ACCEPTABLE_DURATIONS = [\n",
    "        0.25, # 16th note\n",
    "        0.5, # 8th note\n",
    "        0.75,\n",
    "        1.0, # quarter note\n",
    "        1.5,\n",
    "        2, # half note\n",
    "        3,\n",
    "        4 # whole note\n",
    "    ]\n",
    "        \n",
    "        for note in song.flat.notesAndRests:\n",
    "            if note.duration.quarterLength not in ACCEPTABLE_DURATIONS:\n",
    "                return False\n",
    "        return True"
   ]
  },
  {
   "cell_type": "code",
   "execution_count": null,
   "metadata": {},
   "outputs": [],
   "source": [
    "has_acceptable_durations(chordify_song)"
   ]
  },
  {
   "cell_type": "code",
   "execution_count": null,
   "metadata": {},
   "outputs": [],
   "source": [
    "transposed_chordify = transposed_song.chordify()"
   ]
  },
  {
   "cell_type": "code",
   "execution_count": null,
   "metadata": {},
   "outputs": [],
   "source": [
    "print(len(transposed_chordify.flat.notesAndRests))"
   ]
  },
  {
   "cell_type": "code",
   "execution_count": null,
   "metadata": {},
   "outputs": [],
   "source": []
  }
 ],
 "metadata": {
  "kernelspec": {
   "display_name": "Python 3",
   "language": "python",
   "name": "python3"
  },
  "language_info": {
   "codemirror_mode": {
    "name": "ipython",
    "version": 3
   },
   "file_extension": ".py",
   "mimetype": "text/x-python",
   "name": "python",
   "nbconvert_exporter": "python",
   "pygments_lexer": "ipython3",
   "version": "3.8.3"
  },
  "toc": {
   "base_numbering": 1,
   "nav_menu": {},
   "number_sections": true,
   "sideBar": true,
   "skip_h1_title": false,
   "title_cell": "Table of Contents",
   "title_sidebar": "Contents",
   "toc_cell": false,
   "toc_position": {},
   "toc_section_display": true,
   "toc_window_display": false
  },
  "varInspector": {
   "cols": {
    "lenName": 16,
    "lenType": 16,
    "lenVar": 40
   },
   "kernels_config": {
    "python": {
     "delete_cmd_postfix": "",
     "delete_cmd_prefix": "del ",
     "library": "var_list.py",
     "varRefreshCmd": "print(var_dic_list())"
    },
    "r": {
     "delete_cmd_postfix": ") ",
     "delete_cmd_prefix": "rm(",
     "library": "var_list.r",
     "varRefreshCmd": "cat(var_dic_list()) "
    }
   },
   "types_to_exclude": [
    "module",
    "function",
    "builtin_function_or_method",
    "instance",
    "_Feature"
   ],
   "window_display": false
  }
 },
 "nbformat": 4,
 "nbformat_minor": 4
}
